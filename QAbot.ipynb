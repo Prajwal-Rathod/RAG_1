{
  "nbformat": 4,
  "nbformat_minor": 0,
  "metadata": {
    "colab": {
      "provenance": [],
      "authorship_tag": "ABX9TyMWSIeAYdzVi469CKJ7TwWG",
      "include_colab_link": true
    },
    "kernelspec": {
      "name": "python3",
      "display_name": "Python 3"
    },
    "language_info": {
      "name": "python"
    }
  },
  "cells": [
    {
      "cell_type": "markdown",
      "metadata": {
        "id": "view-in-github",
        "colab_type": "text"
      },
      "source": [
        "<a href=\"https://colab.research.google.com/github/Prajwal-Rathod/RAG_1/blob/main/QAbot.ipynb\" target=\"_parent\"><img src=\"https://colab.research.google.com/assets/colab-badge.svg\" alt=\"Open In Colab\"/></a>"
      ]
    },
    {
      "cell_type": "code",
      "execution_count": null,
      "metadata": {
        "id": "Ow5qEGAZNX0C"
      },
      "outputs": [],
      "source": [
        "!pip install -qU \\\n",
        "    langchain-pinecone==0.1.1 \\\n",
        "    langchain-openai==0.1.8 \\\n",
        "    langchain-text-splitters==0.2.0 \\\n",
        "    langchain==0.2.1 \\\n",
        "    pinecone-notebooks==0.1.1"
      ]
    },
    {
      "cell_type": "code",
      "source": [
        "import os\n",
        "\n",
        "# initialize connection to pinecone (orget API key at app.pinecone.io)\n",
        "if not os.environ.get(\"PINCONE_API_Key\"):\n",
        "    from pinecone_notebooks.colab import Authenticate\n",
        "    Authenticate()"
      ],
      "metadata": {
        "colab": {
          "base_uri": "https://localhost:8080/",
          "height": 247
        },
        "id": "iSP6XMpWNaiv",
        "outputId": "81efd382-0271-422b-b2aa-4a88bedb4043"
      },
      "execution_count": null,
      "outputs": [
        {
          "output_type": "display_data",
          "data": {
            "text/plain": [
              "<IPython.core.display.HTML object>"
            ],
            "text/html": [
              "<script type=\"text/javascript\" src=\"https://connect.pinecone.io/embed.js\"></script>"
            ]
          },
          "metadata": {}
        }
      ]
    },
    {
      "cell_type": "code",
      "source": [
        "api_key = os.environ.get(\"Pincone_API_Key_after_authentication\") or \"Pincone_API_Key_after_authentication\"\n",
        "\n",
        "# available at platform.openai.com/api-keys\n",
        "os.environ['open_ai_api_key'] = os.environ.get('open_ai_api_key') or \"open_ai_api_key\""
      ],
      "metadata": {
        "id": "qNVzAvx-NhtS"
      },
      "execution_count": null,
      "outputs": []
    },
    {
      "cell_type": "code",
      "source": [
        "from langchain_text_splitters import MarkdownHeaderTextSplitter\n",
        "\n",
        "# Define your markdown document with information about Quantum Solutions Inc.\n",
        "markdown_document = \"\"\"\n",
        "## Introduction\n",
        "\n",
        "Welcome to the world of Quantum Solutions Inc., a leader in innovative technology and business solutions. Our company is dedicated to providing cutting-edge services that revolutionize industries and drive growth. Whether you're a seasoned entrepreneur or just starting, Quantum Solutions Inc. has the tools and expertise to help you succeed. Let's explore the incredible range of services, setup process, and troubleshooting tips for this innovative business.\n",
        "\n",
        "## Company Overview\n",
        "\n",
        "Quantum Solutions Inc. offers a variety of services designed to meet the diverse needs of modern businesses:\n",
        "\n",
        "- **Quantum Analytics Platform**: Our state-of-the-art analytics platform uses quantum computing principles to deliver unparalleled insights and predictive analytics. This allows businesses to make data-driven decisions with unprecedented accuracy.\n",
        "\n",
        "- **Hyper-Scale Cloud Solutions**: We provide scalable cloud solutions that grow with your business. Our infrastructure is designed to handle the most demanding workloads, ensuring your applications run smoothly and efficiently.\n",
        "\n",
        "- **Next-Gen Cybersecurity**: Protect your business with our advanced cybersecurity solutions. We use cutting-edge technology to safeguard your data against the latest threats, ensuring your operations remain secure.\n",
        "\n",
        "- **AI-Driven Marketing Tools**: Our AI-driven marketing tools help you reach your target audience more effectively. By leveraging machine learning, we create personalized marketing campaigns that deliver measurable results.\n",
        "\n",
        "- **Blockchain Integration Services**: We offer comprehensive blockchain integration services that help you implement secure and transparent business processes. From supply chain management to smart contracts, we have the expertise to guide you through the blockchain revolution.\n",
        "\n",
        "## Use Cases\n",
        "\n",
        "Quantum Solutions Inc. services can be applied across various industries to drive innovation and growth. Here are some hypothetical scenarios where our solutions could be utilized:\n",
        "\n",
        "- **Data-Driven Decision Making**: Use our Quantum Analytics Platform to gain insights into market trends, customer behavior, and operational efficiency. This enables businesses to make informed decisions that drive success.\n",
        "\n",
        "- **Scalable Infrastructure**: Implement our Hyper-Scale Cloud Solutions to ensure your business infrastructure can handle increasing demands. This is ideal for growing startups and established enterprises alike.\n",
        "\n",
        "- **Enhanced Security**: Protect sensitive information with our Next-Gen Cybersecurity solutions. This is crucial for industries such as finance, healthcare, and e-commerce, where data security is paramount.\n",
        "\n",
        "- **Effective Marketing**: Leverage our AI-Driven Marketing Tools to create targeted campaigns that resonate with your audience. This helps businesses maximize their marketing ROI and grow their customer base.\n",
        "\n",
        "- **Blockchain Transparency**: Use our Blockchain Integration Services to streamline business processes and increase transparency. This is particularly beneficial for industries like logistics, where tracking and verifying goods is essential.\n",
        "\n",
        "## Getting Started\n",
        "\n",
        "Setting up your services with Quantum Solutions Inc. is straightforward and efficient. Follow these steps to unlock the full potential of our offerings:\n",
        "\n",
        "1. **Contact Us**: Reach out to our sales team to discuss your business needs and find the best solutions for you. We'll provide a detailed overview of our services and how they can benefit your business.\n",
        "\n",
        "2. **Onboarding Process**: Once you've selected your services, our onboarding team will guide you through the setup process. This includes configuring your analytics platform, setting up cloud infrastructure, and integrating cybersecurity measures.\n",
        "\n",
        "3. **Training and Support**: We offer comprehensive training to ensure your team can effectively use our tools and platforms. Additionally, our support team is available 24/7 to assist with any issues or questions.\n",
        "\n",
        "4. **Implementation**: Our technical experts will assist with the implementation of your chosen solutions. This includes deploying cloud services, integrating AI-driven tools, and setting up blockchain systems.\n",
        "\n",
        "5. **Optimization**: We continually monitor and optimize your services to ensure they deliver maximum value. Our team will work with you to make adjustments as needed and ensure your business remains at the forefront of innovation.\n",
        "\n",
        "## Troubleshooting\n",
        "\n",
        "Even the most advanced solutions can encounter issues. Here are some common problems and their solutions:\n",
        "\n",
        "- **Issue: Analytics Platform Not Loading**\n",
        "\n",
        "    - **Solution**: Ensure your internet connection is stable. Clear your browser cache and try accessing the platform again. If the issue persists, contact our support team for assistance.\n",
        "\n",
        "- **Issue: Slow Cloud Performance**\n",
        "\n",
        "    - **Solution**: Check for any scheduled maintenance or outages on our status page. If none are reported, try scaling up your resources through the cloud management dashboard. For further help, reach out to our support team.\n",
        "\n",
        "- **Issue: Security Alerts**\n",
        "\n",
        "    - **Solution**: Review the security logs to identify the source of the alert. Ensure all software is up to date and run a full security scan. If the issue remains unresolved, contact our cybersecurity experts.\n",
        "\n",
        "- **Issue: Marketing Tool Malfunction**\n",
        "\n",
        "    - **Solution**: Verify that all inputs and configurations are correct. Restart the tool and attempt your task again. If problems continue, our support team is ready to help.\n",
        "\n",
        "- **Issue: Blockchain Integration Error**\n",
        "\n",
        "    - **Solution**: Ensure all nodes are correctly configured and communicating. Check for any software updates or patches that may need to be applied. For persistent issues, our blockchain specialists can provide assistance.\n",
        "\"\"\"\n",
        "\n",
        "# Define the headers to split on\n",
        "headers_to_split_on = [\n",
        "    (\"##\", \"Header 2\")\n",
        "]\n",
        "\n",
        "# Create the MarkdownHeaderTextSplitter instance\n",
        "markdown_splitter = MarkdownHeaderTextSplitter(\n",
        "    headers_to_split_on=headers_to_split_on, strip_headers=False\n",
        ")\n",
        "\n",
        "# Split the markdown document\n",
        "md_header_splits = markdown_splitter.split_text(markdown_document)\n",
        "\n",
        "# Print the resulting splits\n",
        "for idx, split in enumerate(md_header_splits):\n",
        "    print(f\"Section {idx + 1}:\\n{split}\\n\")\n"
      ],
      "metadata": {
        "colab": {
          "base_uri": "https://localhost:8080/"
        },
        "id": "MX9BsUPPNpxv",
        "outputId": "eab63aa4-838a-413a-c14a-a0b74bb9e0ee"
      },
      "execution_count": null,
      "outputs": [
        {
          "output_type": "stream",
          "name": "stdout",
          "text": [
            "Section 1:\n",
            "page_content=\"## Introduction  \\nWelcome to the world of Quantum Solutions Inc., a leader in innovative technology and business solutions. Our company is dedicated to providing cutting-edge services that revolutionize industries and drive growth. Whether you're a seasoned entrepreneur or just starting, Quantum Solutions Inc. has the tools and expertise to help you succeed. Let's explore the incredible range of services, setup process, and troubleshooting tips for this innovative business.\" metadata={'Header 2': 'Introduction'}\n",
            "\n",
            "Section 2:\n",
            "page_content='## Company Overview  \\nQuantum Solutions Inc. offers a variety of services designed to meet the diverse needs of modern businesses:  \\n- **Quantum Analytics Platform**: Our state-of-the-art analytics platform uses quantum computing principles to deliver unparalleled insights and predictive analytics. This allows businesses to make data-driven decisions with unprecedented accuracy.  \\n- **Hyper-Scale Cloud Solutions**: We provide scalable cloud solutions that grow with your business. Our infrastructure is designed to handle the most demanding workloads, ensuring your applications run smoothly and efficiently.  \\n- **Next-Gen Cybersecurity**: Protect your business with our advanced cybersecurity solutions. We use cutting-edge technology to safeguard your data against the latest threats, ensuring your operations remain secure.  \\n- **AI-Driven Marketing Tools**: Our AI-driven marketing tools help you reach your target audience more effectively. By leveraging machine learning, we create personalized marketing campaigns that deliver measurable results.  \\n- **Blockchain Integration Services**: We offer comprehensive blockchain integration services that help you implement secure and transparent business processes. From supply chain management to smart contracts, we have the expertise to guide you through the blockchain revolution.' metadata={'Header 2': 'Company Overview'}\n",
            "\n",
            "Section 3:\n",
            "page_content='## Use Cases  \\nQuantum Solutions Inc. services can be applied across various industries to drive innovation and growth. Here are some hypothetical scenarios where our solutions could be utilized:  \\n- **Data-Driven Decision Making**: Use our Quantum Analytics Platform to gain insights into market trends, customer behavior, and operational efficiency. This enables businesses to make informed decisions that drive success.  \\n- **Scalable Infrastructure**: Implement our Hyper-Scale Cloud Solutions to ensure your business infrastructure can handle increasing demands. This is ideal for growing startups and established enterprises alike.  \\n- **Enhanced Security**: Protect sensitive information with our Next-Gen Cybersecurity solutions. This is crucial for industries such as finance, healthcare, and e-commerce, where data security is paramount.  \\n- **Effective Marketing**: Leverage our AI-Driven Marketing Tools to create targeted campaigns that resonate with your audience. This helps businesses maximize their marketing ROI and grow their customer base.  \\n- **Blockchain Transparency**: Use our Blockchain Integration Services to streamline business processes and increase transparency. This is particularly beneficial for industries like logistics, where tracking and verifying goods is essential.' metadata={'Header 2': 'Use Cases'}\n",
            "\n",
            "Section 4:\n",
            "page_content=\"## Getting Started  \\nSetting up your services with Quantum Solutions Inc. is straightforward and efficient. Follow these steps to unlock the full potential of our offerings:  \\n1. **Contact Us**: Reach out to our sales team to discuss your business needs and find the best solutions for you. We'll provide a detailed overview of our services and how they can benefit your business.  \\n2. **Onboarding Process**: Once you've selected your services, our onboarding team will guide you through the setup process. This includes configuring your analytics platform, setting up cloud infrastructure, and integrating cybersecurity measures.  \\n3. **Training and Support**: We offer comprehensive training to ensure your team can effectively use our tools and platforms. Additionally, our support team is available 24/7 to assist with any issues or questions.  \\n4. **Implementation**: Our technical experts will assist with the implementation of your chosen solutions. This includes deploying cloud services, integrating AI-driven tools, and setting up blockchain systems.  \\n5. **Optimization**: We continually monitor and optimize your services to ensure they deliver maximum value. Our team will work with you to make adjustments as needed and ensure your business remains at the forefront of innovation.\" metadata={'Header 2': 'Getting Started'}\n",
            "\n",
            "Section 5:\n",
            "page_content='## Troubleshooting  \\nEven the most advanced solutions can encounter issues. Here are some common problems and their solutions:  \\n- **Issue: Analytics Platform Not Loading**  \\n- **Solution**: Ensure your internet connection is stable. Clear your browser cache and try accessing the platform again. If the issue persists, contact our support team for assistance.  \\n- **Issue: Slow Cloud Performance**  \\n- **Solution**: Check for any scheduled maintenance or outages on our status page. If none are reported, try scaling up your resources through the cloud management dashboard. For further help, reach out to our support team.  \\n- **Issue: Security Alerts**  \\n- **Solution**: Review the security logs to identify the source of the alert. Ensure all software is up to date and run a full security scan. If the issue remains unresolved, contact our cybersecurity experts.  \\n- **Issue: Marketing Tool Malfunction**  \\n- **Solution**: Verify that all inputs and configurations are correct. Restart the tool and attempt your task again. If problems continue, our support team is ready to help.  \\n- **Issue: Blockchain Integration Error**  \\n- **Solution**: Ensure all nodes are correctly configured and communicating. Check for any software updates or patches that may need to be applied. For persistent issues, our blockchain specialists can provide assistance.' metadata={'Header 2': 'Troubleshooting'}\n",
            "\n"
          ]
        }
      ]
    },
    {
      "cell_type": "code",
      "source": [
        "from langchain_openai import OpenAIEmbeddings\n",
        "\n",
        "model_name = 'text-embedding-3-small'\n",
        "embeddings = OpenAIEmbeddings(\n",
        "    model=model_name,\n",
        "    openai_api_key=os.environ.get('open_ai_api_key')\n",
        ")"
      ],
      "metadata": {
        "id": "5hWMT_ktNtiT"
      },
      "execution_count": null,
      "outputs": []
    },
    {
      "cell_type": "code",
      "source": [
        "from pinecone import Pinecone, ServerlessSpec\n",
        "\n",
        "pc = Pinecone(api_key=os.environ.get(\"Pincone_API_Key_after_authentication\"))"
      ],
      "metadata": {
        "id": "SPZTZ_brNvGd"
      },
      "execution_count": null,
      "outputs": []
    },
    {
      "cell_type": "code",
      "source": [
        "from pinecone import ServerlessSpec\n",
        "\n",
        "cloud = os.environ.get('PINECONE_CLOUD') or 'aws'\n",
        "region = os.environ.get('PINECONE_REGION') or 'us-east-1'\n",
        "\n",
        "spec = ServerlessSpec(cloud=cloud, region=region)"
      ],
      "metadata": {
        "id": "TznLQbQ1N2Qa"
      },
      "execution_count": null,
      "outputs": []
    },
    {
      "cell_type": "code",
      "source": [
        "index_name = \"rag-getting-started\""
      ],
      "metadata": {
        "id": "9fhE3m0XN64I"
      },
      "execution_count": null,
      "outputs": []
    },
    {
      "cell_type": "code",
      "source": [
        "import time\n",
        "\n",
        "if index_name not in pc.list_indexes().names():\n",
        "    pc.create_index(\n",
        "        name=index_name,\n",
        "        dimension=1536,\n",
        "        metric=\"cosine\",\n",
        "        spec=spec\n",
        "    )\n",
        "    # wait for index to be ready\n",
        "    while not pc.describe_index(index_name).status['ready']:\n",
        "        time.sleep(1)"
      ],
      "metadata": {
        "id": "xVehQO2ROC9r"
      },
      "execution_count": null,
      "outputs": []
    },
    {
      "cell_type": "code",
      "source": [
        "from langchain_pinecone import PineconeVectorStore\n",
        "\n",
        "namespace = \"Quantum Solutions Inc\"\n",
        "\n",
        "docsearch = PineconeVectorStore.from_documents(\n",
        "    documents=md_header_splits,\n",
        "    index_name=index_name,\n",
        "    embedding=embeddings,\n",
        "    namespace=namespace\n",
        ")\n",
        "\n",
        "time.sleep(1)"
      ],
      "metadata": {
        "id": "AS_XQdxPON7V"
      },
      "execution_count": null,
      "outputs": []
    },
    {
      "cell_type": "code",
      "source": [
        "index = pc.Index(index_name)\n",
        "\n",
        "for ids in index.list(namespace=namespace):\n",
        "    query = index.query(\n",
        "        id=ids[0],\n",
        "        namespace=namespace,\n",
        "        top_k=1,\n",
        "        include_values=True,\n",
        "        include_metadata=True\n",
        "    )\n",
        "    print(query)"
      ],
      "metadata": {
        "id": "3JeKYkX9OVKx"
      },
      "execution_count": null,
      "outputs": []
    },
    {
      "cell_type": "code",
      "source": [
        "from langchain_openai import ChatOpenAI\n",
        "from langchain.chains import RetrievalQA\n",
        "\n",
        "llm = ChatOpenAI(\n",
        "    openai_api_key=os.environ.get('open_ai_api_key'),\n",
        "    model_name='gpt-3.5-turbo',\n",
        "    temperature=0.0\n",
        ")\n",
        "\n",
        "qa = RetrievalQA.from_chain_type(\n",
        "    llm=llm,\n",
        "    chain_type=\"stuff\",\n",
        "    retriever=docsearch.as_retriever()\n",
        ")"
      ],
      "metadata": {
        "id": "Za9KE_bLOYHV"
      },
      "execution_count": null,
      "outputs": []
    },
    {
      "cell_type": "code",
      "source": [
        "query1 = \"What are the first 3 steps for getting started with Quantum Solutions Inc. services?\"\n",
        "\n",
        "query2 = \"My AI-Driven Marketing Tool is malfunctioning. What should I do?\"\n"
      ],
      "metadata": {
        "id": "89-qDyqAOdhM"
      },
      "execution_count": null,
      "outputs": []
    },
    {
      "cell_type": "code",
      "source": [
        "query1_with_knowledge = qa.invoke(query1)\n",
        "query1_without_knowledge = llm.invoke(query1)\n",
        "\n",
        "print(query1_with_knowledge)\n",
        "print()\n",
        "print(query1_without_knowledge)"
      ],
      "metadata": {
        "id": "C5KYqkMWOf36"
      },
      "execution_count": null,
      "outputs": []
    },
    {
      "cell_type": "code",
      "source": [
        "query2_with_knowledge = qa.invoke(query2)\n",
        "query2_without_knowledge = llm.invoke(query2)\n",
        "\n",
        "print(query2_with_knowledge)\n",
        "print()\n",
        "print(query2_without_knowledge)"
      ],
      "metadata": {
        "id": "E7QQ4yMxOhyA"
      },
      "execution_count": null,
      "outputs": []
    }
  ]
}